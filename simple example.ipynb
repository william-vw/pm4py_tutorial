{
 "cells": [
  {
   "cell_type": "code",
   "execution_count": 2,
   "metadata": {},
   "outputs": [],
   "source": [
    "import pm4py\n",
    "import pandas as pd"
   ]
  },
  {
   "cell_type": "code",
   "execution_count": 18,
   "metadata": {},
   "outputs": [
    {
     "data": {
      "text/html": [
       "<div>\n",
       "<style scoped>\n",
       "    .dataframe tbody tr th:only-of-type {\n",
       "        vertical-align: middle;\n",
       "    }\n",
       "\n",
       "    .dataframe tbody tr th {\n",
       "        vertical-align: top;\n",
       "    }\n",
       "\n",
       "    .dataframe thead th {\n",
       "        text-align: right;\n",
       "    }\n",
       "</style>\n",
       "<table border=\"1\" class=\"dataframe\">\n",
       "  <thead>\n",
       "    <tr style=\"text-align: right;\">\n",
       "      <th></th>\n",
       "      <th>case:concept:name</th>\n",
       "      <th>concept:name</th>\n",
       "      <th>time:timestamp</th>\n",
       "    </tr>\n",
       "  </thead>\n",
       "  <tbody>\n",
       "    <tr>\n",
       "      <th>0</th>\n",
       "      <td>patientA</td>\n",
       "      <td>Decision1</td>\n",
       "      <td>2024-09-16 00:00:00</td>\n",
       "    </tr>\n",
       "    <tr>\n",
       "      <th>1</th>\n",
       "      <td>patientA</td>\n",
       "      <td>Decision2</td>\n",
       "      <td>2024-09-16 00:00:01</td>\n",
       "    </tr>\n",
       "    <tr>\n",
       "      <th>2</th>\n",
       "      <td>patientA</td>\n",
       "      <td>Decision3</td>\n",
       "      <td>2024-09-16 00:00:02</td>\n",
       "    </tr>\n",
       "    <tr>\n",
       "      <th>3</th>\n",
       "      <td>patientB</td>\n",
       "      <td>Decision1</td>\n",
       "      <td>2024-09-16 00:00:00</td>\n",
       "    </tr>\n",
       "    <tr>\n",
       "      <th>4</th>\n",
       "      <td>patientB</td>\n",
       "      <td>Decision2</td>\n",
       "      <td>2024-09-16 00:00:01</td>\n",
       "    </tr>\n",
       "    <tr>\n",
       "      <th>5</th>\n",
       "      <td>patientB</td>\n",
       "      <td>Decision3</td>\n",
       "      <td>2024-09-16 00:00:02</td>\n",
       "    </tr>\n",
       "    <tr>\n",
       "      <th>6</th>\n",
       "      <td>patientC</td>\n",
       "      <td>Decision1</td>\n",
       "      <td>2024-09-16 00:00:00</td>\n",
       "    </tr>\n",
       "    <tr>\n",
       "      <th>7</th>\n",
       "      <td>patientC</td>\n",
       "      <td>Decision4</td>\n",
       "      <td>2024-09-16 00:00:01</td>\n",
       "    </tr>\n",
       "    <tr>\n",
       "      <th>8</th>\n",
       "      <td>patientC</td>\n",
       "      <td>Decision5</td>\n",
       "      <td>2024-09-16 00:00:02</td>\n",
       "    </tr>\n",
       "  </tbody>\n",
       "</table>\n",
       "</div>"
      ],
      "text/plain": [
       "  case:concept:name concept:name      time:timestamp\n",
       "0          patientA    Decision1 2024-09-16 00:00:00\n",
       "1          patientA    Decision2 2024-09-16 00:00:01\n",
       "2          patientA    Decision3 2024-09-16 00:00:02\n",
       "3          patientB    Decision1 2024-09-16 00:00:00\n",
       "4          patientB    Decision2 2024-09-16 00:00:01\n",
       "5          patientB    Decision3 2024-09-16 00:00:02\n",
       "6          patientC    Decision1 2024-09-16 00:00:00\n",
       "7          patientC    Decision4 2024-09-16 00:00:01\n",
       "8          patientC    Decision5 2024-09-16 00:00:02"
      ]
     },
     "execution_count": 18,
     "metadata": {},
     "output_type": "execute_result"
    }
   ],
   "source": [
    "# simply load a CSV file as an event log using pandas\n",
    "# (we don't need the extra features of the XES format)\n",
    "log = pd.read_csv(\"simple log.csv\")\n",
    "\n",
    "# (but, we will have to convert to datetimes manually)\n",
    "log['time:timestamp'] = pd.to_datetime(log['time:timestamp'])\n",
    "\n",
    "log"
   ]
  },
  {
   "cell_type": "code",
   "execution_count": 16,
   "metadata": {},
   "outputs": [
    {
     "data": {
      "image/png": "[encoded data removed]",
      "text/plain": [
       "<IPython.core.display.Image object>"
      ]
     },
     "metadata": {},
     "output_type": "display_data"
    }
   ],
   "source": [
    "# visualize the event log as a simple directly-follows graph.\n",
    "\n",
    "from pm4py.algo.discovery.dfg import algorithm as dfg_discovery\n",
    "from pm4py.visualization.dfg import visualizer as dfg_visualizer\n",
    "\n",
    "# discover\n",
    "dfg = dfg_discovery.apply(log, variant=dfg_discovery.Variants.FREQUENCY)\n",
    "\n",
    "# visualize\n",
    "# numbers inside boxes (in parenthesis) are the number of times the \"activity\"/decision occurred\n",
    "# numbers on edges are the number of times the sequence occurred\n",
    "# (e.g., the number of times that Decision1 was followed by Decision2)\n",
    "gviz = dfg_visualizer.apply(dfg, log=log, variant=dfg_visualizer.Variants.FREQUENCY)\n",
    "dfg_visualizer.view(gviz)"
   ]
  },
  {
   "cell_type": "code",
   "execution_count": 17,
   "metadata": {},
   "outputs": [
    {
     "data": {
      "text/plain": [
       "{('Decision1', 'Decision2', 'Decision3'): 2,\n",
       " ('Decision1', 'Decision4', 'Decision5'): 1}"
      ]
     },
     "execution_count": 17,
     "metadata": {},
     "output_type": "execute_result"
    }
   ],
   "source": [
    "# get the unique variants in the log\n",
    "\n",
    "pm4py.get_variants(log)"
   ]
  }
 ],
 "metadata": {
  "kernelspec": {
   "display_name": "base",
   "language": "python",
   "name": "python3"
  },
  "language_info": {
   "codemirror_mode": {
    "name": "ipython",
    "version": 3
   },
   "file_extension": ".py",
   "mimetype": "text/x-python",
   "name": "python",
   "nbconvert_exporter": "python",
   "pygments_lexer": "ipython3",
   "version": "3.11.5"
  }
 },
 "nbformat": 4,
 "nbformat_minor": 2
}
